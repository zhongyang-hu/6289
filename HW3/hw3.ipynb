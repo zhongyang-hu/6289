{
  "nbformat": 4,
  "nbformat_minor": 0,
  "metadata": {
    "colab": {
      "name": "hw3.ipynb",
      "provenance": []
    },
    "kernelspec": {
      "name": "python3",
      "display_name": "Python 3"
    },
    "language_info": {
      "name": "python"
    }
  },
  "cells": [
    {
      "cell_type": "code",
      "execution_count": 1,
      "metadata": {
        "id": "o8CNIJCxyGWk"
      },
      "outputs": [],
      "source": [
        "import pandas as pd\n",
        "import math\n",
        "import matplotlib.pyplot as plt\n",
        "import keras\n",
        "import numpy as np\n",
        "from keras.models import Sequential\n",
        "from keras.layers import Dense\n",
        "from keras.layers import LSTM\n",
        "from keras.layers import Dropout\n",
        "from keras.layers import *\n",
        "from sklearn.preprocessing import MinMaxScaler\n",
        "from sklearn.metrics import mean_squared_error\n",
        "from sklearn.metrics import mean_absolute_error\n",
        "from sklearn.model_selection import train_test_split\n",
        "from keras.callbacks import EarlyStopping"
      ]
    },
    {
      "cell_type": "code",
      "source": [
        "data=pd.read_csv('https://raw.githubusercontent.com/zhongyang-hu/6289/main/TSLA.csv')\n",
        "print(data.shape)\n",
        "print(data.head(10))\n",
        "print(data.isnull().values.any())"
      ],
      "metadata": {
        "colab": {
          "base_uri": "https://localhost:8080/"
        },
        "id": "bQt5lernzK9R",
        "outputId": "2e20deb7-46ee-4445-d5ff-6034e8bdb840"
      },
      "execution_count": 71,
      "outputs": [
        {
          "output_type": "stream",
          "name": "stdout",
          "text": [
            "(1259, 7)\n",
            "         Date       Open       High        Low      Close  Adj Close    Volume\n",
            "0  2015-07-10  52.444000  52.599998  51.563999  51.830002  51.830002  13054500\n",
            "1  2015-07-13  52.450001  52.509998  51.209999  52.431999  52.431999  14801500\n",
            "2  2015-07-14  52.419998  53.198002  52.102001  53.130001  53.130001   9538000\n",
            "3  2015-07-15  53.348000  53.498001  52.416000  52.627998  52.627998  10108000\n",
            "4  2015-07-16  52.844002  53.439999  52.632000  53.335999  53.335999   8080000\n",
            "5  2015-07-17  54.500000  55.108002  53.650002  54.931999  54.931999  25020500\n",
            "6  2015-07-20  55.000000  57.330002  54.507999  56.452000  56.452000  24892500\n",
            "7  2015-07-21  54.009998  54.700001  53.310001  53.354000  53.354000  30543500\n",
            "8  2015-07-22  52.254002  53.888000  52.172001  53.574001  53.574001  15525000\n",
            "9  2015-07-23  53.930000  53.980000  53.054001  53.439999  53.439999  11136000\n",
            "False\n"
          ]
        }
      ]
    },
    {
      "cell_type": "code",
      "source": [
        "#\n",
        "#normalize\n",
        "train_data=data.iloc[:1000,4:5].values\n",
        "\n",
        "\n",
        "sc = MinMaxScaler(feature_range = (0, 1))\n",
        "training_n = sc.fit_transform(train_data)\n",
        "# Creating a data structure with 60 time-steps and 1 output\n",
        "x_train = []\n",
        "y_train = []\n",
        "for i in range(73, 1000):\n",
        "    temp=np.array([np.array(training_n[i-73:i-13, 0])])\n",
        "    temp=temp.T\n",
        "    \n",
        "    \n",
        "    x_train.append(temp)\n",
        "    temp1=np.array(training_n[i-13, 0])\n",
        "    y_train.append(temp1)\n",
        "x_train, y_train = np.array(x_train), np.array(y_train)\n",
        "#x_train = np.reshape(x_train, (x_train.shape[0], x_train.shape[2], 3))\n",
        "print(x_train.shape)\n",
        "print(y_train.shape)"
      ],
      "metadata": {
        "colab": {
          "base_uri": "https://localhost:8080/"
        },
        "id": "JYHRqGDu0L13",
        "outputId": "34624ba6-495b-41e2-99e9-b3fbb614b17f"
      },
      "execution_count": 131,
      "outputs": [
        {
          "output_type": "stream",
          "name": "stdout",
          "text": [
            "(927, 60, 1)\n",
            "(927,)\n"
          ]
        }
      ]
    },
    {
      "cell_type": "code",
      "source": [
        "model1 = Sequential()\n",
        "model1.add(LSTM(units = 50, return_sequences = True, input_shape = (x_train.shape[1], 1)))\n",
        "model1.add(Dropout(0.2))\n",
        "\n",
        "model1.add(LSTM(units = 50, return_sequences = True))\n",
        "model1.add(Dropout(0.2))\n",
        "# Adding a third LSTM layer and some Dropout regularisation\n",
        "model1.add(LSTM(units = 50, return_sequences = True))\n",
        "model1.add(Dropout(0.2))\n",
        "# Adding a fourth LSTM layer and some Dropout regularisation\n",
        "model1.add(LSTM(units = 50))\n",
        "model1.add(Dropout(0.2))\n",
        "# Adding the output layer\n",
        "model1.add(Dense(units = 1))\n",
        "\n",
        "# Compiling the RNN\n",
        "model1.compile(optimizer = 'adam', loss = 'mean_squared_error')\n",
        "\n",
        "# Fitting the RNN to the Training set\n",
        "model1.fit(x_train, y_train, epochs = 100, batch_size = 32)"
      ],
      "metadata": {
        "colab": {
          "base_uri": "https://localhost:8080/"
        },
        "id": "Oi7O71sN6H7Z",
        "outputId": "da8a417c-89b4-4190-ecfc-a42bf922fab5"
      },
      "execution_count": 132,
      "outputs": [
        {
          "output_type": "stream",
          "name": "stdout",
          "text": [
            "Epoch 1/100\n",
            "29/29 [==============================] - 11s 134ms/step - loss: 0.0544\n",
            "Epoch 2/100\n",
            "29/29 [==============================] - 4s 130ms/step - loss: 0.0174\n",
            "Epoch 3/100\n",
            "29/29 [==============================] - 4s 129ms/step - loss: 0.0146\n",
            "Epoch 4/100\n",
            "29/29 [==============================] - 4s 126ms/step - loss: 0.0133\n",
            "Epoch 5/100\n",
            "29/29 [==============================] - 4s 128ms/step - loss: 0.0135\n",
            "Epoch 6/100\n",
            "29/29 [==============================] - 4s 128ms/step - loss: 0.0121\n",
            "Epoch 7/100\n",
            "29/29 [==============================] - 4s 127ms/step - loss: 0.0124\n",
            "Epoch 8/100\n",
            "29/29 [==============================] - 4s 127ms/step - loss: 0.0113\n",
            "Epoch 9/100\n",
            "29/29 [==============================] - 4s 126ms/step - loss: 0.0122\n",
            "Epoch 10/100\n",
            "29/29 [==============================] - 4s 126ms/step - loss: 0.0107\n",
            "Epoch 11/100\n",
            "29/29 [==============================] - 4s 126ms/step - loss: 0.0107\n",
            "Epoch 12/100\n",
            "29/29 [==============================] - 4s 127ms/step - loss: 0.0093\n",
            "Epoch 13/100\n",
            "29/29 [==============================] - 4s 125ms/step - loss: 0.0087\n",
            "Epoch 14/100\n",
            "29/29 [==============================] - 4s 125ms/step - loss: 0.0090\n",
            "Epoch 15/100\n",
            "29/29 [==============================] - 4s 124ms/step - loss: 0.0080\n",
            "Epoch 16/100\n",
            "29/29 [==============================] - 4s 125ms/step - loss: 0.0090\n",
            "Epoch 17/100\n",
            "29/29 [==============================] - 4s 128ms/step - loss: 0.0088\n",
            "Epoch 18/100\n",
            "29/29 [==============================] - 4s 127ms/step - loss: 0.0072\n",
            "Epoch 19/100\n",
            "29/29 [==============================] - 4s 126ms/step - loss: 0.0075\n",
            "Epoch 20/100\n",
            "29/29 [==============================] - 4s 127ms/step - loss: 0.0072\n",
            "Epoch 21/100\n",
            "29/29 [==============================] - 4s 128ms/step - loss: 0.0072\n",
            "Epoch 22/100\n",
            "29/29 [==============================] - 4s 128ms/step - loss: 0.0066\n",
            "Epoch 23/100\n",
            "29/29 [==============================] - 4s 127ms/step - loss: 0.0069\n",
            "Epoch 24/100\n",
            "29/29 [==============================] - 4s 126ms/step - loss: 0.0074\n",
            "Epoch 25/100\n",
            "29/29 [==============================] - 4s 125ms/step - loss: 0.0059\n",
            "Epoch 26/100\n",
            "29/29 [==============================] - 4s 127ms/step - loss: 0.0064\n",
            "Epoch 27/100\n",
            "29/29 [==============================] - 4s 128ms/step - loss: 0.0061\n",
            "Epoch 28/100\n",
            "29/29 [==============================] - 4s 125ms/step - loss: 0.0061\n",
            "Epoch 29/100\n",
            "29/29 [==============================] - 4s 125ms/step - loss: 0.0054\n",
            "Epoch 30/100\n",
            "29/29 [==============================] - 4s 126ms/step - loss: 0.0055\n",
            "Epoch 31/100\n",
            "29/29 [==============================] - 4s 127ms/step - loss: 0.0056\n",
            "Epoch 32/100\n",
            "29/29 [==============================] - 4s 125ms/step - loss: 0.0057\n",
            "Epoch 33/100\n",
            "29/29 [==============================] - 4s 130ms/step - loss: 0.0052\n",
            "Epoch 34/100\n",
            "29/29 [==============================] - 4s 128ms/step - loss: 0.0054\n",
            "Epoch 35/100\n",
            "29/29 [==============================] - 4s 131ms/step - loss: 0.0051\n",
            "Epoch 36/100\n",
            "29/29 [==============================] - 4s 128ms/step - loss: 0.0050\n",
            "Epoch 37/100\n",
            "29/29 [==============================] - 4s 128ms/step - loss: 0.0051\n",
            "Epoch 38/100\n",
            "29/29 [==============================] - 4s 128ms/step - loss: 0.0046\n",
            "Epoch 39/100\n",
            "29/29 [==============================] - 4s 129ms/step - loss: 0.0050\n",
            "Epoch 40/100\n",
            "29/29 [==============================] - 4s 127ms/step - loss: 0.0048\n",
            "Epoch 41/100\n",
            "29/29 [==============================] - 4s 129ms/step - loss: 0.0046\n",
            "Epoch 42/100\n",
            "29/29 [==============================] - 4s 130ms/step - loss: 0.0043\n",
            "Epoch 43/100\n",
            "29/29 [==============================] - 4s 127ms/step - loss: 0.0042\n",
            "Epoch 44/100\n",
            "29/29 [==============================] - 4s 128ms/step - loss: 0.0043\n",
            "Epoch 45/100\n",
            "29/29 [==============================] - 4s 129ms/step - loss: 0.0040\n",
            "Epoch 46/100\n",
            "29/29 [==============================] - 4s 126ms/step - loss: 0.0047\n",
            "Epoch 47/100\n",
            "29/29 [==============================] - 4s 127ms/step - loss: 0.0040\n",
            "Epoch 48/100\n",
            "29/29 [==============================] - 4s 126ms/step - loss: 0.0041\n",
            "Epoch 49/100\n",
            "29/29 [==============================] - 4s 128ms/step - loss: 0.0041\n",
            "Epoch 50/100\n",
            "29/29 [==============================] - 4s 131ms/step - loss: 0.0044\n",
            "Epoch 51/100\n",
            "29/29 [==============================] - 4s 129ms/step - loss: 0.0042\n",
            "Epoch 52/100\n",
            "29/29 [==============================] - 4s 129ms/step - loss: 0.0044\n",
            "Epoch 53/100\n",
            "29/29 [==============================] - 4s 128ms/step - loss: 0.0038\n",
            "Epoch 54/100\n",
            "29/29 [==============================] - 4s 130ms/step - loss: 0.0041\n",
            "Epoch 55/100\n",
            "29/29 [==============================] - 4s 130ms/step - loss: 0.0043\n",
            "Epoch 56/100\n",
            "29/29 [==============================] - 4s 129ms/step - loss: 0.0038\n",
            "Epoch 57/100\n",
            "29/29 [==============================] - 4s 129ms/step - loss: 0.0039\n",
            "Epoch 58/100\n",
            "29/29 [==============================] - 4s 127ms/step - loss: 0.0037\n",
            "Epoch 59/100\n",
            "29/29 [==============================] - 4s 127ms/step - loss: 0.0036\n",
            "Epoch 60/100\n",
            "29/29 [==============================] - 4s 128ms/step - loss: 0.0033\n",
            "Epoch 61/100\n",
            "29/29 [==============================] - 4s 130ms/step - loss: 0.0034\n",
            "Epoch 62/100\n",
            "29/29 [==============================] - 4s 129ms/step - loss: 0.0037\n",
            "Epoch 63/100\n",
            "29/29 [==============================] - 4s 128ms/step - loss: 0.0034\n",
            "Epoch 64/100\n",
            "29/29 [==============================] - 4s 127ms/step - loss: 0.0036\n",
            "Epoch 65/100\n",
            "29/29 [==============================] - 4s 128ms/step - loss: 0.0031\n",
            "Epoch 66/100\n",
            "29/29 [==============================] - 4s 129ms/step - loss: 0.0033\n",
            "Epoch 67/100\n",
            "29/29 [==============================] - 4s 127ms/step - loss: 0.0033\n",
            "Epoch 68/100\n",
            "29/29 [==============================] - 4s 129ms/step - loss: 0.0037\n",
            "Epoch 69/100\n",
            "29/29 [==============================] - 4s 127ms/step - loss: 0.0040\n",
            "Epoch 70/100\n",
            "29/29 [==============================] - 4s 129ms/step - loss: 0.0033\n",
            "Epoch 71/100\n",
            "29/29 [==============================] - 4s 126ms/step - loss: 0.0037\n",
            "Epoch 72/100\n",
            "29/29 [==============================] - 4s 128ms/step - loss: 0.0033\n",
            "Epoch 73/100\n",
            "29/29 [==============================] - 4s 127ms/step - loss: 0.0031\n",
            "Epoch 74/100\n",
            "29/29 [==============================] - 4s 127ms/step - loss: 0.0034\n",
            "Epoch 75/100\n",
            "29/29 [==============================] - 4s 126ms/step - loss: 0.0034\n",
            "Epoch 76/100\n",
            "29/29 [==============================] - 4s 126ms/step - loss: 0.0033\n",
            "Epoch 77/100\n",
            "29/29 [==============================] - 4s 127ms/step - loss: 0.0032\n",
            "Epoch 78/100\n",
            "29/29 [==============================] - 4s 128ms/step - loss: 0.0032\n",
            "Epoch 79/100\n",
            "29/29 [==============================] - 4s 127ms/step - loss: 0.0030\n",
            "Epoch 80/100\n",
            "29/29 [==============================] - 4s 126ms/step - loss: 0.0031\n",
            "Epoch 81/100\n",
            "29/29 [==============================] - 4s 128ms/step - loss: 0.0031\n",
            "Epoch 82/100\n",
            "29/29 [==============================] - 4s 130ms/step - loss: 0.0030\n",
            "Epoch 83/100\n",
            "29/29 [==============================] - 4s 127ms/step - loss: 0.0031\n",
            "Epoch 84/100\n",
            "29/29 [==============================] - 4s 128ms/step - loss: 0.0031\n",
            "Epoch 85/100\n",
            "29/29 [==============================] - 4s 127ms/step - loss: 0.0034\n",
            "Epoch 86/100\n",
            "29/29 [==============================] - 4s 128ms/step - loss: 0.0032\n",
            "Epoch 87/100\n",
            "29/29 [==============================] - 4s 129ms/step - loss: 0.0029\n",
            "Epoch 88/100\n",
            "29/29 [==============================] - 4s 126ms/step - loss: 0.0030\n",
            "Epoch 89/100\n",
            "29/29 [==============================] - 4s 127ms/step - loss: 0.0026\n",
            "Epoch 90/100\n",
            "29/29 [==============================] - 4s 125ms/step - loss: 0.0028\n",
            "Epoch 91/100\n",
            "29/29 [==============================] - 4s 127ms/step - loss: 0.0031\n",
            "Epoch 92/100\n",
            "29/29 [==============================] - 4s 130ms/step - loss: 0.0027\n",
            "Epoch 93/100\n",
            "29/29 [==============================] - 4s 128ms/step - loss: 0.0029\n",
            "Epoch 94/100\n",
            "29/29 [==============================] - 4s 128ms/step - loss: 0.0027\n",
            "Epoch 95/100\n",
            "29/29 [==============================] - 4s 127ms/step - loss: 0.0028\n",
            "Epoch 96/100\n",
            "29/29 [==============================] - 4s 130ms/step - loss: 0.0027\n",
            "Epoch 97/100\n",
            "29/29 [==============================] - 4s 128ms/step - loss: 0.0028\n",
            "Epoch 98/100\n",
            "29/29 [==============================] - 4s 130ms/step - loss: 0.0026\n",
            "Epoch 99/100\n",
            "29/29 [==============================] - 4s 129ms/step - loss: 0.0027\n",
            "Epoch 100/100\n",
            "29/29 [==============================] - 4s 131ms/step - loss: 0.0028\n"
          ]
        },
        {
          "output_type": "execute_result",
          "data": {
            "text/plain": [
              "<keras.callbacks.History at 0x7efc17c79190>"
            ]
          },
          "metadata": {},
          "execution_count": 132
        }
      ]
    },
    {
      "cell_type": "code",
      "source": [
        "\n",
        "dataset_train = data.iloc[:1000, 4:5]\n",
        "dataset_test = data.iloc[1000:, 4:5]\n",
        "dataset_total = pd.concat((dataset_train, dataset_test), axis = 0)\n",
        "inputs = dataset_total[len(dataset_total) - len(dataset_test) - 60:].values\n",
        "print(inputs.shape)\n",
        "inputs = inputs.reshape(-1,1)\n",
        "inputs = sc.transform(inputs)\n",
        "x_test = []\n",
        "for i in range(60, 319):\n",
        "    temp=np.array([np.array(inputs[i-60:i, 0])])\n",
        "    temp=temp.T\n",
        "    \n",
        "    \n",
        "    x_test.append(temp)\n",
        "\n",
        "x_test = np.array(x_test)\n",
        "#x_test = np.reshape(x_test, (x_test.shape[0], x_test.shape[2], 3))\n",
        "print(x_test.shape)"
      ],
      "metadata": {
        "colab": {
          "base_uri": "https://localhost:8080/"
        },
        "id": "zY75zTOj-sZC",
        "outputId": "da9984f3-b9a9-451d-afe8-4ac0ca4e39bc"
      },
      "execution_count": 136,
      "outputs": [
        {
          "output_type": "stream",
          "name": "stdout",
          "text": [
            "(319, 1)\n",
            "(259, 60, 1)\n"
          ]
        }
      ]
    },
    {
      "cell_type": "code",
      "source": [
        "predicted_lag1 = model1.predict(x_test)\n",
        "\n",
        "predicted_lag1 = sc.inverse_transform(predicted_lag1)\n",
        "print(predicted_lag1.shape)"
      ],
      "metadata": {
        "colab": {
          "base_uri": "https://localhost:8080/"
        },
        "id": "MNOQMTcf_6W1",
        "outputId": "4bdfdc47-9c3a-4c23-f951-fb714b0eec5f"
      },
      "execution_count": 137,
      "outputs": [
        {
          "output_type": "stream",
          "name": "stdout",
          "text": [
            "(259, 1)\n"
          ]
        }
      ]
    },
    {
      "cell_type": "code",
      "source": [
        "# Visualising the results\n",
        "plt.plot(data.loc[1000:, 'Date'],dataset_test.values, color = 'red', label = 'Real TESLA Stock Price')\n",
        "plt.plot(data.loc[1000:, 'Date'],predicted_lag1, color = 'blue', label = 'Predicted TESLA Stock Price')\n",
        "plt.xticks(np.arange(0,260,50))\n",
        "plt.title('TESLA Stock Price Prediction')\n",
        "plt.xlabel('Time')\n",
        "plt.ylabel('TESLA Stock Price')\n",
        "plt.legend()\n",
        "plt.show()"
      ],
      "metadata": {
        "colab": {
          "base_uri": "https://localhost:8080/",
          "height": 295
        },
        "id": "Ldv5o5gSAfMt",
        "outputId": "a8373e05-df35-4456-e8b8-d24f6c5a85c8"
      },
      "execution_count": 138,
      "outputs": [
        {
          "output_type": "display_data",
          "data": {
            "text/plain": [
              "<Figure size 432x288 with 1 Axes>"
            ],
            "image/png": "[encoded data removed]"
          },
          "metadata": {
            "needs_background": "light"
          }
        }
      ]
    },
    {
      "cell_type": "code",
      "source": [
        "#normalize\n",
        "train_data=data.iloc[:1000,4:5].values\n",
        "\n",
        "\n",
        "sc = MinMaxScaler(feature_range = (0, 1))\n",
        "training_n = sc.fit_transform(train_data)\n",
        "# Creating a data structure with 60 time-steps and 1 output\n",
        "x_train = []\n",
        "y_train = []\n",
        "for i in range(73, 1000):\n",
        "    temp=np.array([np.array(training_n[i-73:i-13, 0])])\n",
        "    temp=temp.T\n",
        "    \n",
        "    \n",
        "    x_train.append(temp)\n",
        "    temp1=np.array(training_n[i, 0])\n",
        "    y_train.append(temp1)\n",
        "x_train, y_train = np.array(x_train), np.array(y_train)\n",
        "#x_train = np.reshape(x_train, (x_train.shape[0], x_train.shape[2], 3))\n",
        "print(x_train.shape)\n",
        "print(y_train.shape)"
      ],
      "metadata": {
        "colab": {
          "base_uri": "https://localhost:8080/"
        },
        "id": "mdmC0VJFxevD",
        "outputId": "e8ace746-1a47-4984-a173-4204e57314ab"
      },
      "execution_count": 139,
      "outputs": [
        {
          "output_type": "stream",
          "name": "stdout",
          "text": [
            "(927, 60, 1)\n",
            "(927,)\n"
          ]
        }
      ]
    },
    {
      "cell_type": "code",
      "source": [
        "model2 = Sequential()\n",
        "model2.add(LSTM(units = 50, return_sequences = True, input_shape = (x_train.shape[1], 1)))\n",
        "model2.add(Dropout(0.2))\n",
        "\n",
        "model2.add(LSTM(units = 50, return_sequences = True))\n",
        "model2.add(Dropout(0.2))\n",
        "# Adding a third LSTM layer and some Dropout regularisation\n",
        "model2.add(LSTM(units = 50, return_sequences = True))\n",
        "model2.add(Dropout(0.2))\n",
        "# Adding a fourth LSTM layer and some Dropout regularisation\n",
        "model2.add(LSTM(units = 50))\n",
        "model2.add(Dropout(0.2))\n",
        "# Adding the output layer\n",
        "model2.add(Dense(units = 1))\n",
        "\n",
        "# Compiling the RNN\n",
        "model2.compile(optimizer = 'adam', loss = 'mean_squared_error')\n",
        "\n",
        "# Fitting the RNN to the Training set\n",
        "model2.fit(x_train, y_train, epochs = 100, batch_size = 32)"
      ],
      "metadata": {
        "colab": {
          "base_uri": "https://localhost:8080/"
        },
        "id": "sCcavoV-x0tM",
        "outputId": "a0faccf9-afd4-43a8-e273-4d68dc4cd62a"
      },
      "execution_count": 140,
      "outputs": [
        {
          "output_type": "stream",
          "name": "stdout",
          "text": [
            "Epoch 1/100\n",
            "29/29 [==============================] - 14s 181ms/step - loss: 0.0527\n",
            "Epoch 2/100\n",
            "29/29 [==============================] - 4s 132ms/step - loss: 0.0227\n",
            "Epoch 3/100\n",
            "29/29 [==============================] - 4s 132ms/step - loss: 0.0207\n",
            "Epoch 4/100\n",
            "29/29 [==============================] - 4s 129ms/step - loss: 0.0203\n",
            "Epoch 5/100\n",
            "29/29 [==============================] - 4s 128ms/step - loss: 0.0224\n",
            "Epoch 6/100\n",
            "29/29 [==============================] - 4s 125ms/step - loss: 0.0203\n",
            "Epoch 7/100\n",
            "29/29 [==============================] - 4s 126ms/step - loss: 0.0196\n",
            "Epoch 8/100\n",
            "29/29 [==============================] - 4s 127ms/step - loss: 0.0195\n",
            "Epoch 9/100\n",
            "29/29 [==============================] - 4s 126ms/step - loss: 0.0195\n",
            "Epoch 10/100\n",
            "29/29 [==============================] - 4s 129ms/step - loss: 0.0200\n",
            "Epoch 11/100\n",
            "29/29 [==============================] - 4s 128ms/step - loss: 0.0195\n",
            "Epoch 12/100\n",
            "29/29 [==============================] - 4s 131ms/step - loss: 0.0186\n",
            "Epoch 13/100\n",
            "29/29 [==============================] - 4s 130ms/step - loss: 0.0202\n",
            "Epoch 14/100\n",
            "29/29 [==============================] - 4s 126ms/step - loss: 0.0189\n",
            "Epoch 15/100\n",
            "29/29 [==============================] - 4s 131ms/step - loss: 0.0186\n",
            "Epoch 16/100\n",
            "29/29 [==============================] - 4s 129ms/step - loss: 0.0185\n",
            "Epoch 17/100\n",
            "29/29 [==============================] - 5s 159ms/step - loss: 0.0184\n",
            "Epoch 18/100\n",
            "29/29 [==============================] - 4s 127ms/step - loss: 0.0177\n",
            "Epoch 19/100\n",
            "29/29 [==============================] - 4s 128ms/step - loss: 0.0181\n",
            "Epoch 20/100\n",
            "29/29 [==============================] - 4s 127ms/step - loss: 0.0195\n",
            "Epoch 21/100\n",
            "29/29 [==============================] - 4s 126ms/step - loss: 0.0174\n",
            "Epoch 22/100\n",
            "29/29 [==============================] - 4s 126ms/step - loss: 0.0181\n",
            "Epoch 23/100\n",
            "29/29 [==============================] - 4s 128ms/step - loss: 0.0168\n",
            "Epoch 24/100\n",
            "29/29 [==============================] - 4s 128ms/step - loss: 0.0172\n",
            "Epoch 25/100\n",
            "29/29 [==============================] - 4s 126ms/step - loss: 0.0171\n",
            "Epoch 26/100\n",
            "29/29 [==============================] - 4s 130ms/step - loss: 0.0170\n",
            "Epoch 27/100\n",
            "29/29 [==============================] - 4s 129ms/step - loss: 0.0174\n",
            "Epoch 28/100\n",
            "29/29 [==============================] - 4s 129ms/step - loss: 0.0160\n",
            "Epoch 29/100\n",
            "29/29 [==============================] - 4s 130ms/step - loss: 0.0158\n",
            "Epoch 30/100\n",
            "29/29 [==============================] - 4s 127ms/step - loss: 0.0168\n",
            "Epoch 31/100\n",
            "29/29 [==============================] - 4s 128ms/step - loss: 0.0163\n",
            "Epoch 32/100\n",
            "29/29 [==============================] - 4s 127ms/step - loss: 0.0146\n",
            "Epoch 33/100\n",
            "29/29 [==============================] - 4s 128ms/step - loss: 0.0156\n",
            "Epoch 34/100\n",
            "29/29 [==============================] - 4s 126ms/step - loss: 0.0148\n",
            "Epoch 35/100\n",
            "29/29 [==============================] - 4s 126ms/step - loss: 0.0145\n",
            "Epoch 36/100\n",
            "29/29 [==============================] - 4s 126ms/step - loss: 0.0148\n",
            "Epoch 37/100\n",
            "29/29 [==============================] - 4s 126ms/step - loss: 0.0143\n",
            "Epoch 38/100\n",
            "29/29 [==============================] - 4s 127ms/step - loss: 0.0150\n",
            "Epoch 39/100\n",
            "29/29 [==============================] - 4s 128ms/step - loss: 0.0144\n",
            "Epoch 40/100\n",
            "29/29 [==============================] - 4s 126ms/step - loss: 0.0136\n",
            "Epoch 41/100\n",
            "29/29 [==============================] - 4s 128ms/step - loss: 0.0143\n",
            "Epoch 42/100\n",
            "29/29 [==============================] - 4s 133ms/step - loss: 0.0146\n",
            "Epoch 43/100\n",
            "29/29 [==============================] - 4s 131ms/step - loss: 0.0132\n",
            "Epoch 44/100\n",
            "29/29 [==============================] - 4s 131ms/step - loss: 0.0137\n",
            "Epoch 45/100\n",
            "29/29 [==============================] - 4s 130ms/step - loss: 0.0140\n",
            "Epoch 46/100\n",
            "29/29 [==============================] - 5s 160ms/step - loss: 0.0137\n",
            "Epoch 47/100\n",
            "29/29 [==============================] - 4s 128ms/step - loss: 0.0142\n",
            "Epoch 48/100\n",
            "29/29 [==============================] - 4s 129ms/step - loss: 0.0129\n",
            "Epoch 49/100\n",
            "29/29 [==============================] - 4s 129ms/step - loss: 0.0130\n",
            "Epoch 50/100\n",
            "29/29 [==============================] - 4s 129ms/step - loss: 0.0120\n",
            "Epoch 51/100\n",
            "29/29 [==============================] - 4s 128ms/step - loss: 0.0121\n",
            "Epoch 52/100\n",
            "29/29 [==============================] - 4s 126ms/step - loss: 0.0127\n",
            "Epoch 53/100\n",
            "29/29 [==============================] - 4s 127ms/step - loss: 0.0123\n",
            "Epoch 54/100\n",
            "29/29 [==============================] - 4s 128ms/step - loss: 0.0119\n",
            "Epoch 55/100\n",
            "29/29 [==============================] - 4s 129ms/step - loss: 0.0108\n",
            "Epoch 56/100\n",
            "29/29 [==============================] - 4s 126ms/step - loss: 0.0109\n",
            "Epoch 57/100\n",
            "29/29 [==============================] - 4s 128ms/step - loss: 0.0102\n",
            "Epoch 58/100\n",
            "29/29 [==============================] - 4s 130ms/step - loss: 0.0103\n",
            "Epoch 59/100\n",
            "29/29 [==============================] - 4s 127ms/step - loss: 0.0096\n",
            "Epoch 60/100\n",
            "29/29 [==============================] - 4s 129ms/step - loss: 0.0099\n",
            "Epoch 61/100\n",
            "29/29 [==============================] - 4s 128ms/step - loss: 0.0099\n",
            "Epoch 62/100\n",
            "29/29 [==============================] - 4s 127ms/step - loss: 0.0092\n",
            "Epoch 63/100\n",
            "29/29 [==============================] - 4s 129ms/step - loss: 0.0090\n",
            "Epoch 64/100\n",
            "29/29 [==============================] - 4s 128ms/step - loss: 0.0095\n",
            "Epoch 65/100\n",
            "29/29 [==============================] - 4s 136ms/step - loss: 0.0085\n",
            "Epoch 66/100\n",
            "29/29 [==============================] - 4s 147ms/step - loss: 0.0079\n",
            "Epoch 67/100\n",
            "29/29 [==============================] - 4s 128ms/step - loss: 0.0088\n",
            "Epoch 68/100\n",
            "29/29 [==============================] - 4s 126ms/step - loss: 0.0076\n",
            "Epoch 69/100\n",
            "29/29 [==============================] - 4s 128ms/step - loss: 0.0079\n",
            "Epoch 70/100\n",
            "29/29 [==============================] - 4s 129ms/step - loss: 0.0082\n",
            "Epoch 71/100\n",
            "29/29 [==============================] - 4s 127ms/step - loss: 0.0080\n",
            "Epoch 72/100\n",
            "29/29 [==============================] - 4s 128ms/step - loss: 0.0075\n",
            "Epoch 73/100\n",
            "29/29 [==============================] - 4s 129ms/step - loss: 0.0073\n",
            "Epoch 74/100\n",
            "29/29 [==============================] - 4s 134ms/step - loss: 0.0078\n",
            "Epoch 75/100\n",
            "29/29 [==============================] - 4s 128ms/step - loss: 0.0074\n",
            "Epoch 76/100\n",
            "29/29 [==============================] - 4s 127ms/step - loss: 0.0078\n",
            "Epoch 77/100\n",
            "29/29 [==============================] - 4s 127ms/step - loss: 0.0071\n",
            "Epoch 78/100\n",
            "29/29 [==============================] - 4s 129ms/step - loss: 0.0077\n",
            "Epoch 79/100\n",
            "29/29 [==============================] - 4s 130ms/step - loss: 0.0076\n",
            "Epoch 80/100\n",
            "29/29 [==============================] - 4s 129ms/step - loss: 0.0071\n",
            "Epoch 81/100\n",
            "29/29 [==============================] - 4s 130ms/step - loss: 0.0072\n",
            "Epoch 82/100\n",
            "29/29 [==============================] - 4s 129ms/step - loss: 0.0076\n",
            "Epoch 83/100\n",
            "29/29 [==============================] - 4s 128ms/step - loss: 0.0066\n",
            "Epoch 84/100\n",
            "29/29 [==============================] - 4s 129ms/step - loss: 0.0069\n",
            "Epoch 85/100\n",
            "29/29 [==============================] - 4s 130ms/step - loss: 0.0066\n",
            "Epoch 86/100\n",
            "29/29 [==============================] - 4s 131ms/step - loss: 0.0073\n",
            "Epoch 87/100\n",
            "29/29 [==============================] - 4s 131ms/step - loss: 0.0065\n",
            "Epoch 88/100\n",
            "29/29 [==============================] - 4s 129ms/step - loss: 0.0066\n",
            "Epoch 89/100\n",
            "29/29 [==============================] - 4s 130ms/step - loss: 0.0071\n",
            "Epoch 90/100\n",
            "29/29 [==============================] - 4s 131ms/step - loss: 0.0073\n",
            "Epoch 91/100\n",
            "29/29 [==============================] - 4s 128ms/step - loss: 0.0067\n",
            "Epoch 92/100\n",
            "29/29 [==============================] - 4s 127ms/step - loss: 0.0070\n",
            "Epoch 93/100\n",
            "29/29 [==============================] - 4s 128ms/step - loss: 0.0066\n",
            "Epoch 94/100\n",
            "29/29 [==============================] - 4s 126ms/step - loss: 0.0068\n",
            "Epoch 95/100\n",
            "29/29 [==============================] - 4s 128ms/step - loss: 0.0066\n",
            "Epoch 96/100\n",
            "29/29 [==============================] - 4s 128ms/step - loss: 0.0061\n",
            "Epoch 97/100\n",
            "29/29 [==============================] - 4s 126ms/step - loss: 0.0061\n",
            "Epoch 98/100\n",
            "29/29 [==============================] - 4s 126ms/step - loss: 0.0062\n",
            "Epoch 99/100\n",
            "29/29 [==============================] - 4s 127ms/step - loss: 0.0063\n",
            "Epoch 100/100\n",
            "29/29 [==============================] - 4s 125ms/step - loss: 0.0064\n"
          ]
        },
        {
          "output_type": "execute_result",
          "data": {
            "text/plain": [
              "<keras.callbacks.History at 0x7efc13076b50>"
            ]
          },
          "metadata": {},
          "execution_count": 140
        }
      ]
    },
    {
      "cell_type": "code",
      "source": [
        "#predict result for 14days lag\n",
        "\n",
        "predicted_lag1 = model2.predict(x_test)\n",
        "\n",
        "predicted_lag1 = sc.inverse_transform(predicted_lag1)\n",
        "print(predicted_lag1.shape)\n",
        "plt.plot(data.loc[1013:, 'Date'],dataset_test.values[13:,], color = 'red', label = 'Real TESLA Stock Price')\n",
        "plt.plot(data.loc[1013:, 'Date'],predicted_lag1[:259-13,], color = 'blue', label = 'Predicted TESLA Stock Price')\n",
        "plt.xticks(np.arange(0,260,50))\n",
        "plt.title('TESLA Stock Price Prediction')\n",
        "plt.xlabel('Time')\n",
        "plt.ylabel('TESLA Stock Price')\n",
        "plt.legend()\n",
        "plt.show()"
      ],
      "metadata": {
        "colab": {
          "base_uri": "https://localhost:8080/",
          "height": 313
        },
        "id": "ieyZLLp1zuZw",
        "outputId": "0058c968-1f9a-40e1-a132-0d649d8beb66"
      },
      "execution_count": 142,
      "outputs": [
        {
          "output_type": "stream",
          "name": "stdout",
          "text": [
            "(259, 1)\n"
          ]
        },
        {
          "output_type": "display_data",
          "data": {
            "text/plain": [
              "<Figure size 432x288 with 1 Axes>"
            ],
            "image/png": "[encoded data removed]"
          },
          "metadata": {
            "needs_background": "light"
          }
        }
      ]
    }
  ]
}