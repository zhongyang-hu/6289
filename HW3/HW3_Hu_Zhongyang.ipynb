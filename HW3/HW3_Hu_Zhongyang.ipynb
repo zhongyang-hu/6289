{
  "nbformat": 4,
  "nbformat_minor": 0,
  "metadata": {
    "colab": {
      "name": "HW3_Hu_Zhongyang.ipynb",
      "provenance": []
    },
    "kernelspec": {
      "name": "python3",
      "display_name": "Python 3"
    },
    "language_info": {
      "name": "python"
    }
  },
  "cells": [
    {
      "cell_type": "code",
      "execution_count": 1,
      "metadata": {
        "id": "YnkVP9C0pU_U"
      },
      "outputs": [],
      "source": [
        "import pandas as pd\n",
        "import math\n",
        "import matplotlib.pyplot as plt\n",
        "import keras\n",
        "import numpy as np\n",
        "from keras.models import Sequential\n",
        "from keras.layers import Dense\n",
        "from keras.layers import LSTM\n",
        "from keras.layers import Dropout\n",
        "from keras.layers import *\n",
        "from sklearn.preprocessing import MinMaxScaler\n",
        "from sklearn.metrics import mean_squared_error\n",
        "from sklearn.metrics import mean_absolute_error\n",
        "from sklearn.model_selection import train_test_split\n",
        "from keras.callbacks import EarlyStopping"
      ]
    },
    {
      "cell_type": "code",
      "source": [
        "data=pd.read_csv('https://raw.githubusercontent.com/zhongyang-hu/6289/main/TSLA.csv')\n",
        "print(data.shape)\n",
        "print(data.head(10))\n",
        "print(data.isnull().values.any())"
      ],
      "metadata": {
        "colab": {
          "base_uri": "https://localhost:8080/"
        },
        "id": "qBOeyBCwpf2m",
        "outputId": "f72535f7-3a98-4840-9bbc-f006325449f7"
      },
      "execution_count": 2,
      "outputs": [
        {
          "output_type": "stream",
          "name": "stdout",
          "text": [
            "(1259, 7)\n",
            "         Date       Open       High        Low      Close  Adj Close    Volume\n",
            "0  2015-07-10  52.444000  52.599998  51.563999  51.830002  51.830002  13054500\n",
            "1  2015-07-13  52.450001  52.509998  51.209999  52.431999  52.431999  14801500\n",
            "2  2015-07-14  52.419998  53.198002  52.102001  53.130001  53.130001   9538000\n",
            "3  2015-07-15  53.348000  53.498001  52.416000  52.627998  52.627998  10108000\n",
            "4  2015-07-16  52.844002  53.439999  52.632000  53.335999  53.335999   8080000\n",
            "5  2015-07-17  54.500000  55.108002  53.650002  54.931999  54.931999  25020500\n",
            "6  2015-07-20  55.000000  57.330002  54.507999  56.452000  56.452000  24892500\n",
            "7  2015-07-21  54.009998  54.700001  53.310001  53.354000  53.354000  30543500\n",
            "8  2015-07-22  52.254002  53.888000  52.172001  53.574001  53.574001  15525000\n",
            "9  2015-07-23  53.930000  53.980000  53.054001  53.439999  53.439999  11136000\n",
            "False\n"
          ]
        }
      ]
    },
    {
      "cell_type": "code",
      "source": [
        "#\n",
        "#normalize\n",
        "train_data=data.iloc[:1000,4:5].values\n",
        "\n",
        "\n",
        "sc = MinMaxScaler(feature_range = (0, 1))\n",
        "training_n = sc.fit_transform(train_data)\n",
        "# Creating a data structure with 60 time-steps and 1 output\n",
        "x_train = []\n",
        "y_train = []\n",
        "for i in range(73, 1000):\n",
        "    temp=np.array([training_n[i-73:i-13, 0]])\n",
        "    temp=temp.T\n",
        "    \n",
        "    \n",
        "    x_train.append(temp)\n",
        "    temp1=np.array([training_n[i-13, 0],training_n[i-6, 0],training_n[i, 0]])\n",
        "    y_train.append(temp1)\n",
        "x_train, y_train = np.array(x_train), np.array(y_train)\n",
        "#x_train = np.reshape(x_train, (x_train.shape[0], x_train.shape[2], 3))\n",
        "print(x_train.shape)\n",
        "print(y_train.shape)"
      ],
      "metadata": {
        "colab": {
          "base_uri": "https://localhost:8080/"
        },
        "id": "tE8FHEEtpjcz",
        "outputId": "dc00e7d7-1b7a-428b-be78-c1e42ebd0428"
      },
      "execution_count": 139,
      "outputs": [
        {
          "output_type": "stream",
          "name": "stdout",
          "text": [
            "(927, 60, 1)\n",
            "(927, 3)\n"
          ]
        }
      ]
    },
    {
      "cell_type": "code",
      "source": [
        "model1 = Sequential()\n",
        "model1.add(LSTM(units = 50, return_sequences = True, input_shape = (x_train.shape[1], 1)))\n",
        "model1.add(Dropout(0.2))\n",
        "\n",
        "model1.add(LSTM(units = 50, return_sequences = True))\n",
        "model1.add(Dropout(0.2))\n",
        "\n",
        "model1.add(LSTM(units = 50, return_sequences = True))\n",
        "model1.add(Dropout(0.2))\n",
        "\n",
        "model1.add(LSTM(units = 50))\n",
        "model1.add(Dropout(0.2))\n",
        "\n",
        "model1.add(Dense(units = 3))\n",
        "\n",
        "\n",
        "model1.compile(optimizer = 'adam', loss = 'mean_squared_error')\n",
        "\n",
        "\n",
        "model1.fit(x_train, y_train, epochs = 100, batch_size = 32)"
      ],
      "metadata": {
        "colab": {
          "base_uri": "https://localhost:8080/"
        },
        "id": "aUXmhE0hp_qW",
        "outputId": "dca42d68-4868-4fcd-f9d1-dc620ceda0b1"
      },
      "execution_count": 84,
      "outputs": [
        {
          "output_type": "stream",
          "name": "stdout",
          "text": [
            "Epoch 1/100\n",
            "29/29 [==============================] - 17s 216ms/step - loss: 0.0823\n",
            "Epoch 2/100\n",
            "29/29 [==============================] - 4s 136ms/step - loss: 0.0233\n",
            "Epoch 3/100\n",
            "29/29 [==============================] - 5s 189ms/step - loss: 0.0213\n",
            "Epoch 4/100\n",
            "29/29 [==============================] - 4s 146ms/step - loss: 0.0201\n",
            "Epoch 5/100\n",
            "29/29 [==============================] - 6s 203ms/step - loss: 0.0194\n",
            "Epoch 6/100\n",
            "29/29 [==============================] - 6s 197ms/step - loss: 0.0197\n",
            "Epoch 7/100\n",
            "29/29 [==============================] - 4s 133ms/step - loss: 0.0170\n",
            "Epoch 8/100\n",
            "29/29 [==============================] - 4s 136ms/step - loss: 0.0170\n",
            "Epoch 9/100\n",
            "29/29 [==============================] - 4s 137ms/step - loss: 0.0156\n",
            "Epoch 10/100\n",
            "29/29 [==============================] - 4s 134ms/step - loss: 0.0169\n",
            "Epoch 11/100\n",
            "29/29 [==============================] - 4s 135ms/step - loss: 0.0172\n",
            "Epoch 12/100\n",
            "29/29 [==============================] - 4s 135ms/step - loss: 0.0165\n",
            "Epoch 13/100\n",
            "29/29 [==============================] - 4s 133ms/step - loss: 0.0159\n",
            "Epoch 14/100\n",
            "29/29 [==============================] - 4s 132ms/step - loss: 0.0160\n",
            "Epoch 15/100\n",
            "29/29 [==============================] - 4s 134ms/step - loss: 0.0160\n",
            "Epoch 16/100\n",
            "29/29 [==============================] - 4s 134ms/step - loss: 0.0153\n",
            "Epoch 17/100\n",
            "29/29 [==============================] - 4s 136ms/step - loss: 0.0140\n",
            "Epoch 18/100\n",
            "29/29 [==============================] - 4s 136ms/step - loss: 0.0144\n",
            "Epoch 19/100\n",
            "29/29 [==============================] - 4s 134ms/step - loss: 0.0142\n",
            "Epoch 20/100\n",
            "29/29 [==============================] - 4s 137ms/step - loss: 0.0135\n",
            "Epoch 21/100\n",
            "29/29 [==============================] - 4s 132ms/step - loss: 0.0140\n",
            "Epoch 22/100\n",
            "29/29 [==============================] - 4s 132ms/step - loss: 0.0133\n",
            "Epoch 23/100\n",
            "29/29 [==============================] - 4s 136ms/step - loss: 0.0125\n",
            "Epoch 24/100\n",
            "29/29 [==============================] - 4s 135ms/step - loss: 0.0135\n",
            "Epoch 25/100\n",
            "29/29 [==============================] - 4s 136ms/step - loss: 0.0123\n",
            "Epoch 26/100\n",
            "29/29 [==============================] - 4s 134ms/step - loss: 0.0124\n",
            "Epoch 27/100\n",
            "29/29 [==============================] - 4s 133ms/step - loss: 0.0123\n",
            "Epoch 28/100\n",
            "29/29 [==============================] - 4s 135ms/step - loss: 0.0117\n",
            "Epoch 29/100\n",
            "29/29 [==============================] - 4s 133ms/step - loss: 0.0112\n",
            "Epoch 30/100\n",
            "29/29 [==============================] - 4s 131ms/step - loss: 0.0114\n",
            "Epoch 31/100\n",
            "29/29 [==============================] - 4s 132ms/step - loss: 0.0109\n",
            "Epoch 32/100\n",
            "29/29 [==============================] - 4s 135ms/step - loss: 0.0117\n",
            "Epoch 33/100\n",
            "29/29 [==============================] - 5s 163ms/step - loss: 0.0104\n",
            "Epoch 34/100\n",
            "29/29 [==============================] - 4s 132ms/step - loss: 0.0113\n",
            "Epoch 35/100\n",
            "29/29 [==============================] - 4s 132ms/step - loss: 0.0103\n",
            "Epoch 36/100\n",
            "29/29 [==============================] - 4s 140ms/step - loss: 0.0109\n",
            "Epoch 37/100\n",
            "29/29 [==============================] - 4s 138ms/step - loss: 0.0109\n",
            "Epoch 38/100\n",
            "29/29 [==============================] - 4s 134ms/step - loss: 0.0100\n",
            "Epoch 39/100\n",
            "29/29 [==============================] - 4s 135ms/step - loss: 0.0101\n",
            "Epoch 40/100\n",
            "29/29 [==============================] - 4s 135ms/step - loss: 0.0101\n",
            "Epoch 41/100\n",
            "29/29 [==============================] - 4s 139ms/step - loss: 0.0099\n",
            "Epoch 42/100\n",
            "29/29 [==============================] - 4s 136ms/step - loss: 0.0104\n",
            "Epoch 43/100\n",
            "29/29 [==============================] - 4s 143ms/step - loss: 0.0098\n",
            "Epoch 44/100\n",
            "29/29 [==============================] - 4s 143ms/step - loss: 0.0097\n",
            "Epoch 45/100\n",
            "29/29 [==============================] - 4s 143ms/step - loss: 0.0097\n",
            "Epoch 46/100\n",
            "29/29 [==============================] - 4s 140ms/step - loss: 0.0096\n",
            "Epoch 47/100\n",
            "29/29 [==============================] - 4s 140ms/step - loss: 0.0097\n",
            "Epoch 48/100\n",
            "29/29 [==============================] - 4s 140ms/step - loss: 0.0095\n",
            "Epoch 49/100\n",
            "29/29 [==============================] - 4s 139ms/step - loss: 0.0095\n",
            "Epoch 50/100\n",
            "29/29 [==============================] - 4s 141ms/step - loss: 0.0091\n",
            "Epoch 51/100\n",
            "29/29 [==============================] - 5s 167ms/step - loss: 0.0093\n",
            "Epoch 52/100\n",
            "29/29 [==============================] - 4s 152ms/step - loss: 0.0087\n",
            "Epoch 53/100\n",
            "29/29 [==============================] - 4s 144ms/step - loss: 0.0092\n",
            "Epoch 54/100\n",
            "29/29 [==============================] - 4s 140ms/step - loss: 0.0090\n",
            "Epoch 55/100\n",
            "29/29 [==============================] - 4s 137ms/step - loss: 0.0090\n",
            "Epoch 56/100\n",
            "29/29 [==============================] - 4s 144ms/step - loss: 0.0085\n",
            "Epoch 57/100\n",
            "29/29 [==============================] - 4s 148ms/step - loss: 0.0082\n",
            "Epoch 58/100\n",
            "29/29 [==============================] - 4s 144ms/step - loss: 0.0080\n",
            "Epoch 59/100\n",
            "29/29 [==============================] - 4s 144ms/step - loss: 0.0086\n",
            "Epoch 60/100\n",
            "29/29 [==============================] - 4s 145ms/step - loss: 0.0076\n",
            "Epoch 61/100\n",
            "29/29 [==============================] - 4s 148ms/step - loss: 0.0080\n",
            "Epoch 62/100\n",
            "29/29 [==============================] - 4s 140ms/step - loss: 0.0080\n",
            "Epoch 63/100\n",
            "29/29 [==============================] - 4s 145ms/step - loss: 0.0085\n",
            "Epoch 64/100\n",
            "29/29 [==============================] - 4s 145ms/step - loss: 0.0076\n",
            "Epoch 65/100\n",
            "29/29 [==============================] - 4s 136ms/step - loss: 0.0073\n",
            "Epoch 66/100\n",
            "29/29 [==============================] - 4s 144ms/step - loss: 0.0075\n",
            "Epoch 67/100\n",
            "29/29 [==============================] - 4s 149ms/step - loss: 0.0075\n",
            "Epoch 68/100\n",
            "29/29 [==============================] - 4s 149ms/step - loss: 0.0073\n",
            "Epoch 69/100\n",
            "29/29 [==============================] - 4s 148ms/step - loss: 0.0072\n",
            "Epoch 70/100\n",
            "29/29 [==============================] - 4s 149ms/step - loss: 0.0071\n",
            "Epoch 71/100\n",
            "29/29 [==============================] - 4s 146ms/step - loss: 0.0071\n",
            "Epoch 72/100\n",
            "29/29 [==============================] - 4s 147ms/step - loss: 0.0072\n",
            "Epoch 73/100\n",
            "29/29 [==============================] - 4s 144ms/step - loss: 0.0069\n",
            "Epoch 74/100\n",
            "29/29 [==============================] - 4s 145ms/step - loss: 0.0072\n",
            "Epoch 75/100\n",
            "29/29 [==============================] - 4s 146ms/step - loss: 0.0068\n",
            "Epoch 76/100\n",
            "29/29 [==============================] - 4s 147ms/step - loss: 0.0066\n",
            "Epoch 77/100\n",
            "29/29 [==============================] - 4s 146ms/step - loss: 0.0066\n",
            "Epoch 78/100\n",
            "29/29 [==============================] - 4s 145ms/step - loss: 0.0066\n",
            "Epoch 79/100\n",
            "29/29 [==============================] - 4s 140ms/step - loss: 0.0062\n",
            "Epoch 80/100\n",
            "29/29 [==============================] - 4s 143ms/step - loss: 0.0066\n",
            "Epoch 81/100\n",
            "29/29 [==============================] - 4s 142ms/step - loss: 0.0065\n",
            "Epoch 82/100\n",
            "29/29 [==============================] - 4s 139ms/step - loss: 0.0062\n",
            "Epoch 83/100\n",
            "29/29 [==============================] - 4s 145ms/step - loss: 0.0064\n",
            "Epoch 84/100\n",
            "29/29 [==============================] - 4s 141ms/step - loss: 0.0059\n",
            "Epoch 85/100\n",
            "29/29 [==============================] - 4s 134ms/step - loss: 0.0062\n",
            "Epoch 86/100\n",
            "29/29 [==============================] - 4s 144ms/step - loss: 0.0061\n",
            "Epoch 87/100\n",
            "29/29 [==============================] - 4s 139ms/step - loss: 0.0061\n",
            "Epoch 88/100\n",
            "29/29 [==============================] - 4s 135ms/step - loss: 0.0059\n",
            "Epoch 89/100\n",
            "29/29 [==============================] - 4s 144ms/step - loss: 0.0060\n",
            "Epoch 90/100\n",
            "29/29 [==============================] - 4s 143ms/step - loss: 0.0055\n",
            "Epoch 91/100\n",
            "29/29 [==============================] - 4s 143ms/step - loss: 0.0059\n",
            "Epoch 92/100\n",
            "29/29 [==============================] - 4s 144ms/step - loss: 0.0057\n",
            "Epoch 93/100\n",
            "29/29 [==============================] - 4s 144ms/step - loss: 0.0054\n",
            "Epoch 94/100\n",
            "29/29 [==============================] - 4s 139ms/step - loss: 0.0056\n",
            "Epoch 95/100\n",
            "29/29 [==============================] - 4s 141ms/step - loss: 0.0058\n",
            "Epoch 96/100\n",
            "29/29 [==============================] - 4s 139ms/step - loss: 0.0054\n",
            "Epoch 97/100\n",
            "29/29 [==============================] - 4s 141ms/step - loss: 0.0059\n",
            "Epoch 98/100\n",
            "29/29 [==============================] - 4s 142ms/step - loss: 0.0053\n",
            "Epoch 99/100\n",
            "29/29 [==============================] - 4s 139ms/step - loss: 0.0052\n",
            "Epoch 100/100\n",
            "29/29 [==============================] - 4s 140ms/step - loss: 0.0051\n"
          ]
        },
        {
          "output_type": "execute_result",
          "data": {
            "text/plain": [
              "<keras.callbacks.History at 0x7f9a5a26a1d0>"
            ]
          },
          "metadata": {},
          "execution_count": 84
        }
      ]
    },
    {
      "cell_type": "code",
      "source": [
        "dataset_train = data.iloc[:1000, 4:5]\n",
        "dataset_test = data.iloc[1000:, 4:5]\n",
        "dataset_total = pd.concat((dataset_train, dataset_test), axis = 0)\n",
        "inputs = dataset_total[len(dataset_total) - len(dataset_test) - 60:].values\n",
        "print(inputs.shape)\n",
        "inputs = inputs.reshape(-1,1)\n",
        "inputs = sc.transform(inputs)\n",
        "x_test = []\n",
        "for i in range(60, 319):\n",
        "    temp=np.array([np.array(inputs[i-60:i, 0])])\n",
        "    temp=temp.T\n",
        "    \n",
        "    \n",
        "    x_test.append(temp)\n",
        "\n",
        "x_test = np.array(x_test)\n",
        "#x_test = np.reshape(x_test, (x_test.shape[0], x_test.shape[2], 3))\n",
        "print(x_test.shape)"
      ],
      "metadata": {
        "colab": {
          "base_uri": "https://localhost:8080/"
        },
        "id": "51BwrgJ0qJJC",
        "outputId": "6a071211-73c6-4c05-f294-01fc0e8a89dc"
      },
      "execution_count": 85,
      "outputs": [
        {
          "output_type": "stream",
          "name": "stdout",
          "text": [
            "(319, 1)\n",
            "(259, 60, 1)\n"
          ]
        }
      ]
    },
    {
      "cell_type": "code",
      "source": [
        "predicted_lag = model1.predict(x_test)\n",
        "predicted_lag=predicted_lag.T\n",
        "\n",
        "predicted_lag1 = sc.inverse_transform(predicted_lag[0].reshape(1, -1))\n",
        "print(predicted_lag1.shape)"
      ],
      "metadata": {
        "colab": {
          "base_uri": "https://localhost:8080/"
        },
        "id": "pVLa8bd6qebm",
        "outputId": "90c3fe50-1d11-4ff1-86cb-25e09a5292f0"
      },
      "execution_count": 86,
      "outputs": [
        {
          "output_type": "stream",
          "name": "stdout",
          "text": [
            "(1, 259)\n"
          ]
        }
      ]
    },
    {
      "cell_type": "code",
      "source": [
        "#RESULT for 1 day lag\n",
        "\n",
        "plt.plot(data.loc[1000:, 'Date'],dataset_test.values, color = 'red', label = 'Real TESLA Stock Price')\n",
        "plt.plot(data.loc[1000:, 'Date'],predicted_lag1.T, color = 'blue', label = 'Predicted TESLA Stock Price')\n",
        "plt.xticks(np.arange(0,260,50))\n",
        "plt.title('RESULT for 1 day lag for  4 LSTM layers')\n",
        "plt.xlabel('Time')\n",
        "plt.ylabel('price')\n",
        "plt.legend()\n",
        "plt.show()"
      ],
      "metadata": {
        "colab": {
          "base_uri": "https://localhost:8080/",
          "height": 295
        },
        "id": "uL96QB5gqpMM",
        "outputId": "5c1d5954-cb2e-4f28-fe5c-49be6fa407da"
      },
      "execution_count": 87,
      "outputs": [
        {
          "output_type": "display_data",
          "data": {
            "text/plain": [
              "<Figure size 432x288 with 1 Axes>"
            ],
            "image/png": "[encoded data removed]"
          },
          "metadata": {
            "needs_background": "light"
          }
        }
      ]
    },
    {
      "cell_type": "code",
      "source": [
        "model2 = Sequential()\n",
        "model2.add(LSTM(units = 50, return_sequences = True, input_shape = (x_train.shape[1], 1)))\n",
        "model2.add(Dropout(0.2))\n",
        "model2.add(LSTM(units = 50, return_sequences = True))\n",
        "model2.add(Dropout(0.2))\n",
        "\n",
        "model2.add(LSTM(units = 50, return_sequences = True))\n",
        "model2.add(Dropout(0.2))\n",
        "model2.add(LSTM(units = 50, return_sequences = True))\n",
        "model2.add(Dropout(0.2))\n",
        "\n",
        "model2.add(LSTM(units = 50, return_sequences = True))\n",
        "model2.add(Dropout(0.2))\n",
        "\n",
        "model2.add(LSTM(units = 50))\n",
        "model2.add(Dropout(0.2))\n",
        "\n",
        "model2.add(Dense(units = 3))\n",
        "\n",
        "\n",
        "model2.compile(optimizer = 'adam', loss = 'mean_squared_error')\n",
        "\n",
        "\n",
        "model2.fit(x_train, y_train, epochs = 100, batch_size = 32)"
      ],
      "metadata": {
        "colab": {
          "base_uri": "https://localhost:8080/"
        },
        "id": "hSIeG0RlwEYc",
        "outputId": "340bbbb2-4542-40dd-96a7-5df9a2280e0f"
      },
      "execution_count": 88,
      "outputs": [
        {
          "output_type": "stream",
          "name": "stdout",
          "text": [
            "Epoch 1/100\n",
            "29/29 [==============================] - 18s 205ms/step - loss: 0.0838\n",
            "Epoch 2/100\n",
            "29/29 [==============================] - 6s 213ms/step - loss: 0.0266\n",
            "Epoch 3/100\n",
            "29/29 [==============================] - 6s 212ms/step - loss: 0.0228\n",
            "Epoch 4/100\n",
            "29/29 [==============================] - 6s 202ms/step - loss: 0.0211\n",
            "Epoch 5/100\n",
            "29/29 [==============================] - 6s 215ms/step - loss: 0.0212\n",
            "Epoch 6/100\n",
            "29/29 [==============================] - 6s 213ms/step - loss: 0.0192\n",
            "Epoch 7/100\n",
            "29/29 [==============================] - 6s 215ms/step - loss: 0.0200\n",
            "Epoch 8/100\n",
            "29/29 [==============================] - 6s 217ms/step - loss: 0.0185\n",
            "Epoch 9/100\n",
            "29/29 [==============================] - 6s 211ms/step - loss: 0.0186\n",
            "Epoch 10/100\n",
            "29/29 [==============================] - 6s 208ms/step - loss: 0.0184\n",
            "Epoch 11/100\n",
            "29/29 [==============================] - 6s 215ms/step - loss: 0.0171\n",
            "Epoch 12/100\n",
            "29/29 [==============================] - 6s 216ms/step - loss: 0.0177\n",
            "Epoch 13/100\n",
            "29/29 [==============================] - 6s 216ms/step - loss: 0.0170\n",
            "Epoch 14/100\n",
            "29/29 [==============================] - 6s 203ms/step - loss: 0.0157\n",
            "Epoch 15/100\n",
            "29/29 [==============================] - 6s 216ms/step - loss: 0.0150\n",
            "Epoch 16/100\n",
            "29/29 [==============================] - 6s 210ms/step - loss: 0.0140\n",
            "Epoch 17/100\n",
            "29/29 [==============================] - 6s 217ms/step - loss: 0.0147\n",
            "Epoch 18/100\n",
            "29/29 [==============================] - 6s 209ms/step - loss: 0.0149\n",
            "Epoch 19/100\n",
            "29/29 [==============================] - 6s 213ms/step - loss: 0.0157\n",
            "Epoch 20/100\n",
            "29/29 [==============================] - 6s 215ms/step - loss: 0.0142\n",
            "Epoch 21/100\n",
            "29/29 [==============================] - 6s 203ms/step - loss: 0.0134\n",
            "Epoch 22/100\n",
            "29/29 [==============================] - 6s 216ms/step - loss: 0.0129\n",
            "Epoch 23/100\n",
            "29/29 [==============================] - 6s 206ms/step - loss: 0.0123\n",
            "Epoch 24/100\n",
            "29/29 [==============================] - 6s 203ms/step - loss: 0.0118\n",
            "Epoch 25/100\n",
            "29/29 [==============================] - 6s 213ms/step - loss: 0.0114\n",
            "Epoch 26/100\n",
            "29/29 [==============================] - 6s 203ms/step - loss: 0.0118\n",
            "Epoch 27/100\n",
            "29/29 [==============================] - 6s 216ms/step - loss: 0.0110\n",
            "Epoch 28/100\n",
            "29/29 [==============================] - 6s 212ms/step - loss: 0.0105\n",
            "Epoch 29/100\n",
            "29/29 [==============================] - 6s 212ms/step - loss: 0.0110\n",
            "Epoch 30/100\n",
            "29/29 [==============================] - 6s 212ms/step - loss: 0.0096\n",
            "Epoch 31/100\n",
            "29/29 [==============================] - 6s 210ms/step - loss: 0.0092\n",
            "Epoch 32/100\n",
            "29/29 [==============================] - 6s 206ms/step - loss: 0.0096\n",
            "Epoch 33/100\n",
            "29/29 [==============================] - 6s 210ms/step - loss: 0.0095\n",
            "Epoch 34/100\n",
            "29/29 [==============================] - 6s 204ms/step - loss: 0.0086\n",
            "Epoch 35/100\n",
            "29/29 [==============================] - 6s 204ms/step - loss: 0.0087\n",
            "Epoch 36/100\n",
            "29/29 [==============================] - 6s 215ms/step - loss: 0.0085\n",
            "Epoch 37/100\n",
            "29/29 [==============================] - 6s 209ms/step - loss: 0.0081\n",
            "Epoch 38/100\n",
            "29/29 [==============================] - 6s 207ms/step - loss: 0.0090\n",
            "Epoch 39/100\n",
            "29/29 [==============================] - 6s 207ms/step - loss: 0.0087\n",
            "Epoch 40/100\n",
            "29/29 [==============================] - 6s 200ms/step - loss: 0.0087\n",
            "Epoch 41/100\n",
            "29/29 [==============================] - 6s 206ms/step - loss: 0.0081\n",
            "Epoch 42/100\n",
            "29/29 [==============================] - 6s 201ms/step - loss: 0.0083\n",
            "Epoch 43/100\n",
            "29/29 [==============================] - 6s 207ms/step - loss: 0.0078\n",
            "Epoch 44/100\n",
            "29/29 [==============================] - 6s 209ms/step - loss: 0.0079\n",
            "Epoch 45/100\n",
            "29/29 [==============================] - 6s 205ms/step - loss: 0.0082\n",
            "Epoch 46/100\n",
            "29/29 [==============================] - 6s 201ms/step - loss: 0.0076\n",
            "Epoch 47/100\n",
            "29/29 [==============================] - 6s 207ms/step - loss: 0.0075\n",
            "Epoch 48/100\n",
            "29/29 [==============================] - 6s 207ms/step - loss: 0.0081\n",
            "Epoch 49/100\n",
            "29/29 [==============================] - 6s 209ms/step - loss: 0.0074\n",
            "Epoch 50/100\n",
            "29/29 [==============================] - 6s 207ms/step - loss: 0.0073\n",
            "Epoch 51/100\n",
            "29/29 [==============================] - 6s 205ms/step - loss: 0.0069\n",
            "Epoch 52/100\n",
            "29/29 [==============================] - 6s 204ms/step - loss: 0.0070\n",
            "Epoch 53/100\n",
            "29/29 [==============================] - 6s 202ms/step - loss: 0.0070\n",
            "Epoch 54/100\n",
            "29/29 [==============================] - 6s 205ms/step - loss: 0.0070\n",
            "Epoch 55/100\n",
            "29/29 [==============================] - 6s 199ms/step - loss: 0.0072\n",
            "Epoch 56/100\n",
            "29/29 [==============================] - 6s 206ms/step - loss: 0.0066\n",
            "Epoch 57/100\n",
            "29/29 [==============================] - 6s 199ms/step - loss: 0.0064\n",
            "Epoch 58/100\n",
            "29/29 [==============================] - 6s 202ms/step - loss: 0.0063\n",
            "Epoch 59/100\n",
            "29/29 [==============================] - 6s 203ms/step - loss: 0.0075\n",
            "Epoch 60/100\n",
            "29/29 [==============================] - 6s 202ms/step - loss: 0.0060\n",
            "Epoch 61/100\n",
            "29/29 [==============================] - 6s 203ms/step - loss: 0.0062\n",
            "Epoch 62/100\n",
            "29/29 [==============================] - 6s 201ms/step - loss: 0.0058\n",
            "Epoch 63/100\n",
            "29/29 [==============================] - 6s 201ms/step - loss: 0.0060\n",
            "Epoch 64/100\n",
            "29/29 [==============================] - 6s 201ms/step - loss: 0.0061\n",
            "Epoch 65/100\n",
            "29/29 [==============================] - 6s 205ms/step - loss: 0.0056\n",
            "Epoch 66/100\n",
            "29/29 [==============================] - 6s 203ms/step - loss: 0.0056\n",
            "Epoch 67/100\n",
            "29/29 [==============================] - 6s 207ms/step - loss: 0.0056\n",
            "Epoch 68/100\n",
            "29/29 [==============================] - 6s 202ms/step - loss: 0.0052\n",
            "Epoch 69/100\n",
            "29/29 [==============================] - 6s 201ms/step - loss: 0.0055\n",
            "Epoch 70/100\n",
            "29/29 [==============================] - 6s 205ms/step - loss: 0.0050\n",
            "Epoch 71/100\n",
            "29/29 [==============================] - 6s 203ms/step - loss: 0.0051\n",
            "Epoch 72/100\n",
            "29/29 [==============================] - 6s 204ms/step - loss: 0.0054\n",
            "Epoch 73/100\n",
            "29/29 [==============================] - 6s 204ms/step - loss: 0.0055\n",
            "Epoch 74/100\n",
            "29/29 [==============================] - 6s 202ms/step - loss: 0.0051\n",
            "Epoch 75/100\n",
            "29/29 [==============================] - 6s 204ms/step - loss: 0.0050\n",
            "Epoch 76/100\n",
            "29/29 [==============================] - 6s 201ms/step - loss: 0.0044\n",
            "Epoch 77/100\n",
            "29/29 [==============================] - 6s 207ms/step - loss: 0.0045\n",
            "Epoch 78/100\n",
            "29/29 [==============================] - 6s 203ms/step - loss: 0.0048\n",
            "Epoch 79/100\n",
            "29/29 [==============================] - 6s 203ms/step - loss: 0.0048\n",
            "Epoch 80/100\n",
            "29/29 [==============================] - 6s 200ms/step - loss: 0.0045\n",
            "Epoch 81/100\n",
            "29/29 [==============================] - 6s 203ms/step - loss: 0.0042\n",
            "Epoch 82/100\n",
            "29/29 [==============================] - 6s 207ms/step - loss: 0.0042\n",
            "Epoch 83/100\n",
            "29/29 [==============================] - 6s 203ms/step - loss: 0.0045\n",
            "Epoch 84/100\n",
            "29/29 [==============================] - 6s 201ms/step - loss: 0.0044\n",
            "Epoch 85/100\n",
            "29/29 [==============================] - 6s 200ms/step - loss: 0.0042\n",
            "Epoch 86/100\n",
            "29/29 [==============================] - 6s 197ms/step - loss: 0.0041\n",
            "Epoch 87/100\n",
            "29/29 [==============================] - 6s 203ms/step - loss: 0.0039\n",
            "Epoch 88/100\n",
            "29/29 [==============================] - 6s 201ms/step - loss: 0.0038\n",
            "Epoch 89/100\n",
            "29/29 [==============================] - 6s 198ms/step - loss: 0.0036\n",
            "Epoch 90/100\n",
            "29/29 [==============================] - 6s 202ms/step - loss: 0.0039\n",
            "Epoch 91/100\n",
            "29/29 [==============================] - 6s 200ms/step - loss: 0.0040\n",
            "Epoch 92/100\n",
            "29/29 [==============================] - 6s 197ms/step - loss: 0.0036\n",
            "Epoch 93/100\n",
            "29/29 [==============================] - 6s 204ms/step - loss: 0.0039\n",
            "Epoch 94/100\n",
            "29/29 [==============================] - 6s 203ms/step - loss: 0.0035\n",
            "Epoch 95/100\n",
            "29/29 [==============================] - 6s 200ms/step - loss: 0.0038\n",
            "Epoch 96/100\n",
            "29/29 [==============================] - 6s 205ms/step - loss: 0.0035\n",
            "Epoch 97/100\n",
            "29/29 [==============================] - 6s 205ms/step - loss: 0.0034\n",
            "Epoch 98/100\n",
            "29/29 [==============================] - 6s 203ms/step - loss: 0.0034\n",
            "Epoch 99/100\n",
            "29/29 [==============================] - 6s 200ms/step - loss: 0.0031\n",
            "Epoch 100/100\n",
            "29/29 [==============================] - 6s 198ms/step - loss: 0.0032\n"
          ]
        },
        {
          "output_type": "execute_result",
          "data": {
            "text/plain": [
              "<keras.callbacks.History at 0x7f9a513890d0>"
            ]
          },
          "metadata": {},
          "execution_count": 88
        }
      ]
    },
    {
      "cell_type": "code",
      "source": [
        "predicted_2 = model2.predict(x_test)\n",
        "predicted_2=predicted_2.T\n",
        "\n",
        "predicted_lag1 = sc.inverse_transform(predicted_2[0].reshape(1, -1))\n",
        "print(predicted_lag1.shape)"
      ],
      "metadata": {
        "colab": {
          "base_uri": "https://localhost:8080/"
        },
        "id": "2S2154vJyoUf",
        "outputId": "dac3cfad-7231-49e2-f2f3-a9c6eae9a3bd"
      },
      "execution_count": 89,
      "outputs": [
        {
          "output_type": "stream",
          "name": "stdout",
          "text": [
            "(1, 259)\n"
          ]
        }
      ]
    },
    {
      "cell_type": "code",
      "source": [
        "#RESULT for 1 day lag for  6 LSTM layers\n",
        "\n",
        "plt.plot(data.loc[1000:, 'Date'],dataset_test.values, color = 'red', label = 'Real TESLA Stock Price')\n",
        "plt.plot(data.loc[1000:, 'Date'],predicted_lag1.T, color = 'blue', label = 'Predicted TESLA Stock Price')\n",
        "plt.xticks(np.arange(0,260,50))\n",
        "plt.title('RESULT for 1 day lag for  6 LSTM layers')\n",
        "plt.xlabel('Time')\n",
        "plt.ylabel('price')\n",
        "plt.legend()\n",
        "plt.show()"
      ],
      "metadata": {
        "colab": {
          "base_uri": "https://localhost:8080/",
          "height": 295
        },
        "id": "klkPQ7W2y295",
        "outputId": "2722bf62-fc98-41ed-fafb-ae163245ca93"
      },
      "execution_count": 90,
      "outputs": [
        {
          "output_type": "display_data",
          "data": {
            "text/plain": [
              "<Figure size 432x288 with 1 Axes>"
            ],
            "image/png": "[encoded data removed]"
          },
          "metadata": {
            "needs_background": "light"
          }
        }
      ]
    },
    {
      "cell_type": "code",
      "source": [
        "model3 = Sequential()\n",
        "model3.add(LSTM(units = 80, return_sequences = True, input_shape = (x_train.shape[1], 1)))\n",
        "model3.add(Dropout(0.2))\n",
        "\n",
        "model3.add(LSTM(units = 80, return_sequences = True))\n",
        "model3.add(Dropout(0.2))\n",
        "\n",
        "model3.add(LSTM(units = 80, return_sequences = True))\n",
        "model3.add(Dropout(0.2))\n",
        "\n",
        "model3.add(LSTM(units = 80))\n",
        "model3.add(Dropout(0.2))\n",
        "\n",
        "model3.add(Dense(units = 3))\n",
        "\n",
        "\n",
        "model3.compile(optimizer = 'adam', loss = 'mean_squared_error')\n",
        "\n",
        "\n",
        "model3.fit(x_train, y_train, epochs = 100, batch_size = 32)"
      ],
      "metadata": {
        "colab": {
          "base_uri": "https://localhost:8080/"
        },
        "id": "Uj7MMDeR0peS",
        "outputId": "79c69da7-c2fa-4b7b-aea0-d4c97c62e629"
      },
      "execution_count": 91,
      "outputs": [
        {
          "output_type": "stream",
          "name": "stdout",
          "text": [
            "Epoch 1/100\n",
            "29/29 [==============================] - 14s 180ms/step - loss: 0.0658\n",
            "Epoch 2/100\n",
            "29/29 [==============================] - 5s 179ms/step - loss: 0.0211\n",
            "Epoch 3/100\n",
            "29/29 [==============================] - 5s 178ms/step - loss: 0.0182\n",
            "Epoch 4/100\n",
            "29/29 [==============================] - 5s 178ms/step - loss: 0.0186\n",
            "Epoch 5/100\n",
            "29/29 [==============================] - 5s 180ms/step - loss: 0.0182\n",
            "Epoch 6/100\n",
            "29/29 [==============================] - 5s 181ms/step - loss: 0.0196\n",
            "Epoch 7/100\n",
            "29/29 [==============================] - 5s 181ms/step - loss: 0.0164\n",
            "Epoch 8/100\n",
            "29/29 [==============================] - 5s 177ms/step - loss: 0.0153\n",
            "Epoch 9/100\n",
            "29/29 [==============================] - 5s 179ms/step - loss: 0.0163\n",
            "Epoch 10/100\n",
            "29/29 [==============================] - 5s 182ms/step - loss: 0.0154\n",
            "Epoch 11/100\n",
            "29/29 [==============================] - 5s 180ms/step - loss: 0.0150\n",
            "Epoch 12/100\n",
            "29/29 [==============================] - 5s 181ms/step - loss: 0.0148\n",
            "Epoch 13/100\n",
            "29/29 [==============================] - 5s 182ms/step - loss: 0.0142\n",
            "Epoch 14/100\n",
            "29/29 [==============================] - 5s 179ms/step - loss: 0.0141\n",
            "Epoch 15/100\n",
            "29/29 [==============================] - 5s 179ms/step - loss: 0.0135\n",
            "Epoch 16/100\n",
            "29/29 [==============================] - 5s 181ms/step - loss: 0.0132\n",
            "Epoch 17/100\n",
            "29/29 [==============================] - 5s 182ms/step - loss: 0.0137\n",
            "Epoch 18/100\n",
            "29/29 [==============================] - 5s 184ms/step - loss: 0.0128\n",
            "Epoch 19/100\n",
            "29/29 [==============================] - 5s 181ms/step - loss: 0.0127\n",
            "Epoch 20/100\n",
            "29/29 [==============================] - 5s 181ms/step - loss: 0.0120\n",
            "Epoch 21/100\n",
            "29/29 [==============================] - 5s 179ms/step - loss: 0.0131\n",
            "Epoch 22/100\n",
            "29/29 [==============================] - 5s 179ms/step - loss: 0.0118\n",
            "Epoch 23/100\n",
            "29/29 [==============================] - 5s 182ms/step - loss: 0.0112\n",
            "Epoch 24/100\n",
            "29/29 [==============================] - 5s 179ms/step - loss: 0.0113\n",
            "Epoch 25/100\n",
            "29/29 [==============================] - 5s 183ms/step - loss: 0.0113\n",
            "Epoch 26/100\n",
            "29/29 [==============================] - 5s 180ms/step - loss: 0.0110\n",
            "Epoch 27/100\n",
            "29/29 [==============================] - 5s 182ms/step - loss: 0.0109\n",
            "Epoch 28/100\n",
            "29/29 [==============================] - 5s 181ms/step - loss: 0.0110\n",
            "Epoch 29/100\n",
            "29/29 [==============================] - 5s 183ms/step - loss: 0.0105\n",
            "Epoch 30/100\n",
            "29/29 [==============================] - 5s 182ms/step - loss: 0.0104\n",
            "Epoch 31/100\n",
            "29/29 [==============================] - 5s 176ms/step - loss: 0.0100\n",
            "Epoch 32/100\n",
            "29/29 [==============================] - 5s 180ms/step - loss: 0.0106\n",
            "Epoch 33/100\n",
            "29/29 [==============================] - 5s 184ms/step - loss: 0.0106\n",
            "Epoch 34/100\n",
            "29/29 [==============================] - 5s 180ms/step - loss: 0.0106\n",
            "Epoch 35/100\n",
            "29/29 [==============================] - 5s 178ms/step - loss: 0.0099\n",
            "Epoch 36/100\n",
            "29/29 [==============================] - 5s 180ms/step - loss: 0.0098\n",
            "Epoch 37/100\n",
            "29/29 [==============================] - 5s 181ms/step - loss: 0.0095\n",
            "Epoch 38/100\n",
            "29/29 [==============================] - 5s 179ms/step - loss: 0.0097\n",
            "Epoch 39/100\n",
            "29/29 [==============================] - 5s 178ms/step - loss: 0.0095\n",
            "Epoch 40/100\n",
            "29/29 [==============================] - 5s 178ms/step - loss: 0.0096\n",
            "Epoch 41/100\n",
            "29/29 [==============================] - 5s 181ms/step - loss: 0.0095\n",
            "Epoch 42/100\n",
            "29/29 [==============================] - 5s 178ms/step - loss: 0.0094\n",
            "Epoch 43/100\n",
            "29/29 [==============================] - 5s 184ms/step - loss: 0.0096\n",
            "Epoch 44/100\n",
            "29/29 [==============================] - 5s 183ms/step - loss: 0.0091\n",
            "Epoch 45/100\n",
            "29/29 [==============================] - 5s 179ms/step - loss: 0.0094\n",
            "Epoch 46/100\n",
            "29/29 [==============================] - 5s 181ms/step - loss: 0.0089\n",
            "Epoch 47/100\n",
            "29/29 [==============================] - 5s 179ms/step - loss: 0.0089\n",
            "Epoch 48/100\n",
            "29/29 [==============================] - 5s 183ms/step - loss: 0.0091\n",
            "Epoch 49/100\n",
            "29/29 [==============================] - 5s 179ms/step - loss: 0.0090\n",
            "Epoch 50/100\n",
            "29/29 [==============================] - 5s 180ms/step - loss: 0.0089\n",
            "Epoch 51/100\n",
            "29/29 [==============================] - 5s 181ms/step - loss: 0.0081\n",
            "Epoch 52/100\n",
            "29/29 [==============================] - 5s 181ms/step - loss: 0.0088\n",
            "Epoch 53/100\n",
            "29/29 [==============================] - 5s 178ms/step - loss: 0.0099\n",
            "Epoch 54/100\n",
            "29/29 [==============================] - 5s 183ms/step - loss: 0.0092\n",
            "Epoch 55/100\n",
            "29/29 [==============================] - 5s 177ms/step - loss: 0.0081\n",
            "Epoch 56/100\n",
            "29/29 [==============================] - 5s 182ms/step - loss: 0.0085\n",
            "Epoch 57/100\n",
            "29/29 [==============================] - 5s 182ms/step - loss: 0.0083\n",
            "Epoch 58/100\n",
            "29/29 [==============================] - 5s 179ms/step - loss: 0.0079\n",
            "Epoch 59/100\n",
            "29/29 [==============================] - 5s 183ms/step - loss: 0.0080\n",
            "Epoch 60/100\n",
            "29/29 [==============================] - 5s 184ms/step - loss: 0.0076\n",
            "Epoch 61/100\n",
            "29/29 [==============================] - 5s 185ms/step - loss: 0.0078\n",
            "Epoch 62/100\n",
            "29/29 [==============================] - 5s 181ms/step - loss: 0.0077\n",
            "Epoch 63/100\n",
            "29/29 [==============================] - 5s 180ms/step - loss: 0.0074\n",
            "Epoch 64/100\n",
            "29/29 [==============================] - 5s 177ms/step - loss: 0.0071\n",
            "Epoch 65/100\n",
            "29/29 [==============================] - 5s 182ms/step - loss: 0.0067\n",
            "Epoch 66/100\n",
            "29/29 [==============================] - 5s 178ms/step - loss: 0.0074\n",
            "Epoch 67/100\n",
            "29/29 [==============================] - 5s 179ms/step - loss: 0.0082\n",
            "Epoch 68/100\n",
            "29/29 [==============================] - 5s 179ms/step - loss: 0.0078\n",
            "Epoch 69/100\n",
            "29/29 [==============================] - 5s 179ms/step - loss: 0.0068\n",
            "Epoch 70/100\n",
            "29/29 [==============================] - 5s 182ms/step - loss: 0.0074\n",
            "Epoch 71/100\n",
            "29/29 [==============================] - 5s 183ms/step - loss: 0.0069\n",
            "Epoch 72/100\n",
            "29/29 [==============================] - 5s 184ms/step - loss: 0.0064\n",
            "Epoch 73/100\n",
            "29/29 [==============================] - 5s 181ms/step - loss: 0.0081\n",
            "Epoch 74/100\n",
            "29/29 [==============================] - 5s 180ms/step - loss: 0.0070\n",
            "Epoch 75/100\n",
            "29/29 [==============================] - 5s 184ms/step - loss: 0.0064\n",
            "Epoch 76/100\n",
            "29/29 [==============================] - 5s 180ms/step - loss: 0.0063\n",
            "Epoch 77/100\n",
            "29/29 [==============================] - 5s 181ms/step - loss: 0.0061\n",
            "Epoch 78/100\n",
            "29/29 [==============================] - 5s 183ms/step - loss: 0.0060\n",
            "Epoch 79/100\n",
            "29/29 [==============================] - 5s 180ms/step - loss: 0.0064\n",
            "Epoch 80/100\n",
            "29/29 [==============================] - 5s 182ms/step - loss: 0.0059\n",
            "Epoch 81/100\n",
            "29/29 [==============================] - 5s 184ms/step - loss: 0.0058\n",
            "Epoch 82/100\n",
            "29/29 [==============================] - 5s 180ms/step - loss: 0.0058\n",
            "Epoch 83/100\n",
            "29/29 [==============================] - 5s 181ms/step - loss: 0.0056\n",
            "Epoch 84/100\n",
            "29/29 [==============================] - 5s 184ms/step - loss: 0.0057\n",
            "Epoch 85/100\n",
            "29/29 [==============================] - 5s 183ms/step - loss: 0.0055\n",
            "Epoch 86/100\n",
            "29/29 [==============================] - 5s 180ms/step - loss: 0.0054\n",
            "Epoch 87/100\n",
            "29/29 [==============================] - 5s 181ms/step - loss: 0.0053\n",
            "Epoch 88/100\n",
            "29/29 [==============================] - 5s 184ms/step - loss: 0.0056\n",
            "Epoch 89/100\n",
            "29/29 [==============================] - 5s 182ms/step - loss: 0.0055\n",
            "Epoch 90/100\n",
            "29/29 [==============================] - 5s 183ms/step - loss: 0.0054\n",
            "Epoch 91/100\n",
            "29/29 [==============================] - 5s 182ms/step - loss: 0.0051\n",
            "Epoch 92/100\n",
            "29/29 [==============================] - 5s 178ms/step - loss: 0.0053\n",
            "Epoch 93/100\n",
            "29/29 [==============================] - 5s 181ms/step - loss: 0.0053\n",
            "Epoch 94/100\n",
            "29/29 [==============================] - 5s 185ms/step - loss: 0.0051\n",
            "Epoch 95/100\n",
            "29/29 [==============================] - 5s 182ms/step - loss: 0.0048\n",
            "Epoch 96/100\n",
            "29/29 [==============================] - 5s 183ms/step - loss: 0.0052\n",
            "Epoch 97/100\n",
            "29/29 [==============================] - 5s 183ms/step - loss: 0.0053\n",
            "Epoch 98/100\n",
            "29/29 [==============================] - 5s 183ms/step - loss: 0.0054\n",
            "Epoch 99/100\n",
            "29/29 [==============================] - 5s 179ms/step - loss: 0.0050\n",
            "Epoch 100/100\n",
            "29/29 [==============================] - 5s 183ms/step - loss: 0.0051\n"
          ]
        },
        {
          "output_type": "execute_result",
          "data": {
            "text/plain": [
              "<keras.callbacks.History at 0x7f9a507dc810>"
            ]
          },
          "metadata": {},
          "execution_count": 91
        }
      ]
    },
    {
      "cell_type": "code",
      "source": [
        "predicted_1 = model1.predict(x_test)\n",
        "predicted_1=predicted_1.T\n",
        "predicted_2 = model2.predict(x_test)\n",
        "predicted_2=predicted_2.T\n",
        "predicted_3 = model3.predict(x_test)\n",
        "predicted_3=predicted_3.T\n",
        "predicted_1 = sc.inverse_transform(predicted_1)\n",
        "predicted_2 = sc.inverse_transform(predicted_2)\n",
        "predicted_3 = sc.inverse_transform(predicted_3)\n",
        "print(predicted_1.shape)\n",
        "print(predicted_2.shape)\n",
        "print(predicted_3.shape)"
      ],
      "metadata": {
        "colab": {
          "base_uri": "https://localhost:8080/"
        },
        "id": "BRZVznyV4ySI",
        "outputId": "8f75654e-bab2-4b35-9293-c0d69cc65896"
      },
      "execution_count": 92,
      "outputs": [
        {
          "output_type": "stream",
          "name": "stdout",
          "text": [
            "(3, 259)\n",
            "(3, 259)\n",
            "(3, 259)\n"
          ]
        }
      ]
    },
    {
      "cell_type": "code",
      "source": [
        "#plot all of three model lag 1\n",
        "plt.plot(data.loc[1000:, 'Date'],dataset_test.values, color = 'red', label = 'Real TESLA Stock Price')\n",
        "plt.plot(data.loc[1000:, 'Date'],predicted_1[0], label = 'Predicted by 4 layer LSTM')\n",
        "plt.plot(data.loc[1000:, 'Date'],predicted_2[0], label = 'Predicted by 6 layer LSTM')\n",
        "plt.plot(data.loc[1000:, 'Date'],predicted_3[0], label = 'Predicted by 4 layer LSTM 80 nuerons')\n",
        "plt.xticks(np.arange(0,260,50))\n",
        "plt.title('RESULT for 1 day lag')\n",
        "plt.xlabel('Time')\n",
        "plt.ylabel('Price')\n",
        "plt.legend()\n",
        "plt.show()"
      ],
      "metadata": {
        "colab": {
          "base_uri": "https://localhost:8080/",
          "height": 295
        },
        "id": "JOexvSzk5_Dy",
        "outputId": "2fa1a8fb-d92c-4ee6-c752-a5ab9775c8c2"
      },
      "execution_count": 93,
      "outputs": [
        {
          "output_type": "display_data",
          "data": {
            "text/plain": [
              "<Figure size 432x288 with 1 Axes>"
            ],
            "image/png": "[encoded data removed]"
          },
          "metadata": {
            "needs_background": "light"
          }
        }
      ]
    },
    {
      "cell_type": "code",
      "source": [
        "#plot all of three model lag 7\n",
        "plt.plot(data.loc[1006:, 'Date'],dataset_test.values[6:], color = 'red', label = 'Real TESLA Stock Price')\n",
        "plt.plot(data.loc[1006:, 'Date'],predicted_1[1,:253], label = 'Predicted by 4 layer LSTM')\n",
        "plt.plot(data.loc[1006:, 'Date'],predicted_2[1,:253], label = 'Predicted by 6 layer LSTM')\n",
        "plt.plot(data.loc[1006:, 'Date'],predicted_3[1,:253], label = 'Predicted by 4 layer LSTM 80 nuerons')\n",
        "plt.xticks(np.arange(0,260,50))\n",
        "plt.title('RESULT for 7 day lag')\n",
        "plt.xlabel('Time')\n",
        "plt.ylabel('Price')\n",
        "plt.legend()\n",
        "plt.show()"
      ],
      "metadata": {
        "colab": {
          "base_uri": "https://localhost:8080/",
          "height": 295
        },
        "id": "sUNSrj3V7Knl",
        "outputId": "1d09793e-3a3d-409e-cd01-7544553e1977"
      },
      "execution_count": 94,
      "outputs": [
        {
          "output_type": "display_data",
          "data": {
            "text/plain": [
              "<Figure size 432x288 with 1 Axes>"
            ],
            "image/png": "[encoded data removed]"
          },
          "metadata": {
            "needs_background": "light"
          }
        }
      ]
    },
    {
      "cell_type": "code",
      "source": [
        "#plot all of three model lag 14\n",
        "plt.plot(data.loc[1013:, 'Date'],dataset_test.values[13:], color = 'red', label = 'Real TESLA Stock Price')\n",
        "plt.plot(data.loc[1013:, 'Date'],predicted_1[1,:246], label = 'Predicted by 4 layer LSTM')\n",
        "plt.plot(data.loc[1013:, 'Date'],predicted_2[1,:246], label = 'Predicted by 6 layer LSTM')\n",
        "plt.plot(data.loc[1013:, 'Date'],predicted_3[1,:246], label = 'Predicted by 4 layer LSTM 80 nuerons')\n",
        "plt.xticks(np.arange(0,260,50))\n",
        "plt.title('RESULT for 14 day lag')\n",
        "plt.xlabel('Time')\n",
        "plt.ylabel('Price')\n",
        "plt.legend()\n",
        "plt.show()"
      ],
      "metadata": {
        "colab": {
          "base_uri": "https://localhost:8080/",
          "height": 295
        },
        "id": "zLZwJdfX7pYM",
        "outputId": "2c070d4f-5269-4b5d-b792-31ed64e51a5e"
      },
      "execution_count": 95,
      "outputs": [
        {
          "output_type": "display_data",
          "data": {
            "text/plain": [
              "<Figure size 432x288 with 1 Axes>"
            ],
            "image/png": "[encoded data removed]"
          },
          "metadata": {
            "needs_background": "light"
          }
        }
      ]
    },
    {
      "cell_type": "code",
      "source": [
        "#predict \n",
        "price=data.iloc[1199:1260,4:5].values\n",
        "\n",
        "\n",
        "price = sc.transform(price)\n",
        "temp=np.array([price[:, 0]])\n",
        "temp=temp.T\n",
        "temp=np.array(temp).reshape(1,60,1)\n",
        "\n",
        "est=[]\n",
        "for i in range(90):\n",
        "    result=model1.predict(temp)\n",
        "    est.append(sc.inverse_transform(result)[:,2])\n",
        "    \n",
        "    t=[]\n",
        "    for i in range(1,60):\n",
        "        t.append(float(temp[0,i,0]))\n",
        "    \n",
        "    t.append(float(result[0,0]))\n",
        "    \n",
        "\n",
        "    temp=np.array(t,dtype='float32').reshape(1,60,1)\n",
        "    \n",
        "\n",
        "\n",
        "    \n",
        "    \n",
        "    "
      ],
      "metadata": {
        "id": "pkufxzRhSgkF"
      },
      "execution_count": 163,
      "outputs": []
    },
    {
      "cell_type": "code",
      "source": [
        "plt.plot([i for i in range(90)],est)\n",
        "plt.title('Predicted 2 weeks untill oct')\n",
        "plt.show()"
      ],
      "metadata": {
        "colab": {
          "base_uri": "https://localhost:8080/",
          "height": 281
        },
        "id": "9IZQHNNpeXP1",
        "outputId": "c14365d4-557a-43a5-a6ed-f45540a6f2c9"
      },
      "execution_count": 167,
      "outputs": [
        {
          "output_type": "display_data",
          "data": {
            "text/plain": [
              "<Figure size 432x288 with 1 Axes>"
            ],
            "image/png": "[encoded data removed]"
          },
          "metadata": {
            "needs_background": "light"
          }
        }
      ]
    }
  ]
}